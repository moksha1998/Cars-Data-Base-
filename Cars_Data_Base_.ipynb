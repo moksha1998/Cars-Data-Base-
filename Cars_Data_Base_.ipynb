{
  "nbformat": 4,
  "nbformat_minor": 0,
  "metadata": {
    "colab": {
      "name": " Cars Data Base .ipynb",
      "provenance": [],
      "collapsed_sections": [],
      "authorship_tag": "ABX9TyOUn2vGyKjLAiX834tm/qzs",
      "include_colab_link": true
    },
    "kernelspec": {
      "name": "python3",
      "display_name": "Python 3"
    }
  },
  "cells": [
    {
      "cell_type": "markdown",
      "metadata": {
        "id": "view-in-github",
        "colab_type": "text"
      },
      "source": [
        "<a href=\"https://colab.research.google.com/github/moksha1998/Cars-Data-Base-/blob/master/Cars_Data_Base_.ipynb\" target=\"_parent\"><img src=\"https://colab.research.google.com/assets/colab-badge.svg\" alt=\"Open In Colab\"/></a>"
      ]
    },
    {
      "cell_type": "code",
      "metadata": {
        "id": "0B0ygcGV2jJw",
        "colab_type": "code",
        "colab": {}
      },
      "source": [
        "import pandas as pd"
      ],
      "execution_count": null,
      "outputs": []
    },
    {
      "cell_type": "code",
      "metadata": {
        "id": "7j4FPoEr2nRw",
        "colab_type": "code",
        "colab": {}
      },
      "source": [
        "from google.colab import files\n"
      ],
      "execution_count": null,
      "outputs": []
    },
    {
      "cell_type": "code",
      "metadata": {
        "id": "vLOvyrac25y2",
        "colab_type": "code",
        "colab": {
          "resources": {
            "http://localhost:8080/nbextensions/google.colab/files.js": {
              "data": "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",
              "ok": true,
              "headers": [
                [
                  "content-type",
                  "application/javascript"
                ]
              ],
              "status": 200,
              "status_text": ""
            }
          },
          "base_uri": "https://localhost:8080/",
          "height": 74
        },
        "outputId": "75936485-8f6a-46e0-e9b9-4cbe1623f4ee"
      },
      "source": [
        "uploaded = files.upload()"
      ],
      "execution_count": null,
      "outputs": [
        {
          "output_type": "display_data",
          "data": {
            "text/html": [
              "\n",
              "     <input type=\"file\" id=\"files-593c3eb4-e92d-4a64-a670-773951f3595b\" name=\"files[]\" multiple disabled />\n",
              "     <output id=\"result-593c3eb4-e92d-4a64-a670-773951f3595b\">\n",
              "      Upload widget is only available when the cell has been executed in the\n",
              "      current browser session. Please rerun this cell to enable.\n",
              "      </output>\n",
              "      <script src=\"/nbextensions/google.colab/files.js\"></script> "
            ],
            "text/plain": [
              "<IPython.core.display.HTML object>"
            ]
          },
          "metadata": {
            "tags": []
          }
        },
        {
          "output_type": "stream",
          "text": [
            "Saving car data.txt to car data (4).txt\n"
          ],
          "name": "stdout"
        }
      ]
    },
    {
      "cell_type": "code",
      "metadata": {
        "id": "3rd4Q20q6y94",
        "colab_type": "code",
        "colab": {}
      },
      "source": [
        "df =pd.read_table('car data (4).txt')"
      ],
      "execution_count": null,
      "outputs": []
    },
    {
      "cell_type": "code",
      "metadata": {
        "id": "X0Ee6lz27dbp",
        "colab_type": "code",
        "colab": {
          "base_uri": "https://localhost:8080/",
          "height": 419
        },
        "outputId": "b3653281-7940-4643-a435-ccf4563d3b3a"
      },
      "source": [
        "df\n"
      ],
      "execution_count": null,
      "outputs": [
        {
          "output_type": "execute_result",
          "data": {
            "text/html": [
              "<div>\n",
              "<style scoped>\n",
              "    .dataframe tbody tr th:only-of-type {\n",
              "        vertical-align: middle;\n",
              "    }\n",
              "\n",
              "    .dataframe tbody tr th {\n",
              "        vertical-align: top;\n",
              "    }\n",
              "\n",
              "    .dataframe thead th {\n",
              "        text-align: right;\n",
              "    }\n",
              "</style>\n",
              "<table border=\"1\" class=\"dataframe\">\n",
              "  <thead>\n",
              "    <tr style=\"text-align: right;\">\n",
              "      <th></th>\n",
              "      <th>Car_Name</th>\n",
              "      <th>Year</th>\n",
              "      <th>Selling_Price</th>\n",
              "      <th>Present_Price</th>\n",
              "      <th>Kms_Driven</th>\n",
              "      <th>Fuel_Type</th>\n",
              "      <th>Seller_Type</th>\n",
              "      <th>Transmission</th>\n",
              "      <th>Owner</th>\n",
              "    </tr>\n",
              "  </thead>\n",
              "  <tbody>\n",
              "    <tr>\n",
              "      <th>0</th>\n",
              "      <td>ritz</td>\n",
              "      <td>2014</td>\n",
              "      <td>3.35</td>\n",
              "      <td>5.59</td>\n",
              "      <td>27000</td>\n",
              "      <td>Petrol</td>\n",
              "      <td>Dealer</td>\n",
              "      <td>Manual</td>\n",
              "      <td>0</td>\n",
              "    </tr>\n",
              "    <tr>\n",
              "      <th>1</th>\n",
              "      <td>sx4</td>\n",
              "      <td>2013</td>\n",
              "      <td>4.75</td>\n",
              "      <td>9.54</td>\n",
              "      <td>43000</td>\n",
              "      <td>Diesel</td>\n",
              "      <td>Dealer</td>\n",
              "      <td>Manual</td>\n",
              "      <td>0</td>\n",
              "    </tr>\n",
              "    <tr>\n",
              "      <th>2</th>\n",
              "      <td>ciaz</td>\n",
              "      <td>2017</td>\n",
              "      <td>7.25</td>\n",
              "      <td>9.85</td>\n",
              "      <td>6900</td>\n",
              "      <td>Petrol</td>\n",
              "      <td>Dealer</td>\n",
              "      <td>Manual</td>\n",
              "      <td>0</td>\n",
              "    </tr>\n",
              "    <tr>\n",
              "      <th>3</th>\n",
              "      <td>wagon r</td>\n",
              "      <td>2011</td>\n",
              "      <td>2.85</td>\n",
              "      <td>4.15</td>\n",
              "      <td>5200</td>\n",
              "      <td>Petrol</td>\n",
              "      <td>Dealer</td>\n",
              "      <td>Manual</td>\n",
              "      <td>0</td>\n",
              "    </tr>\n",
              "    <tr>\n",
              "      <th>4</th>\n",
              "      <td>swift</td>\n",
              "      <td>2014</td>\n",
              "      <td>4.60</td>\n",
              "      <td>6.87</td>\n",
              "      <td>42450</td>\n",
              "      <td>Diesel</td>\n",
              "      <td>Dealer</td>\n",
              "      <td>Manual</td>\n",
              "      <td>0</td>\n",
              "    </tr>\n",
              "    <tr>\n",
              "      <th>...</th>\n",
              "      <td>...</td>\n",
              "      <td>...</td>\n",
              "      <td>...</td>\n",
              "      <td>...</td>\n",
              "      <td>...</td>\n",
              "      <td>...</td>\n",
              "      <td>...</td>\n",
              "      <td>...</td>\n",
              "      <td>...</td>\n",
              "    </tr>\n",
              "    <tr>\n",
              "      <th>144</th>\n",
              "      <td>verna</td>\n",
              "      <td>2012</td>\n",
              "      <td>5.20</td>\n",
              "      <td>9.40</td>\n",
              "      <td>71000</td>\n",
              "      <td>Diesel</td>\n",
              "      <td>Dealer</td>\n",
              "      <td>Manual</td>\n",
              "      <td>0</td>\n",
              "    </tr>\n",
              "    <tr>\n",
              "      <th>145</th>\n",
              "      <td>i20</td>\n",
              "      <td>2012</td>\n",
              "      <td>3.75</td>\n",
              "      <td>6.79</td>\n",
              "      <td>35000</td>\n",
              "      <td>Petrol</td>\n",
              "      <td>Dealer</td>\n",
              "      <td>Manual</td>\n",
              "      <td>0</td>\n",
              "    </tr>\n",
              "    <tr>\n",
              "      <th>146</th>\n",
              "      <td>verna</td>\n",
              "      <td>2015</td>\n",
              "      <td>5.95</td>\n",
              "      <td>9.40</td>\n",
              "      <td>36000</td>\n",
              "      <td>Petrol</td>\n",
              "      <td>Dealer</td>\n",
              "      <td>Manual</td>\n",
              "      <td>0</td>\n",
              "    </tr>\n",
              "    <tr>\n",
              "      <th>147</th>\n",
              "      <td>i10</td>\n",
              "      <td>2013</td>\n",
              "      <td>4.00</td>\n",
              "      <td>4.60</td>\n",
              "      <td>30000</td>\n",
              "      <td>Petrol</td>\n",
              "      <td>Dealer</td>\n",
              "      <td>Manual</td>\n",
              "      <td>0</td>\n",
              "    </tr>\n",
              "    <tr>\n",
              "      <th>148</th>\n",
              "      <td>i20</td>\n",
              "      <td>2016</td>\n",
              "      <td>5.25</td>\n",
              "      <td>7.60</td>\n",
              "      <td>17000</td>\n",
              "      <td>Petrol</td>\n",
              "      <td>Dealer</td>\n",
              "      <td>Manual</td>\n",
              "      <td>0</td>\n",
              "    </tr>\n",
              "  </tbody>\n",
              "</table>\n",
              "<p>149 rows × 9 columns</p>\n",
              "</div>"
            ],
            "text/plain": [
              "    Car_Name  Year  Selling_Price  ...  Seller_Type  Transmission Owner\n",
              "0       ritz  2014           3.35  ...       Dealer        Manual     0\n",
              "1        sx4  2013           4.75  ...       Dealer        Manual     0\n",
              "2       ciaz  2017           7.25  ...       Dealer        Manual     0\n",
              "3    wagon r  2011           2.85  ...       Dealer        Manual     0\n",
              "4      swift  2014           4.60  ...       Dealer        Manual     0\n",
              "..       ...   ...            ...  ...          ...           ...   ...\n",
              "144    verna  2012           5.20  ...       Dealer        Manual     0\n",
              "145      i20  2012           3.75  ...       Dealer        Manual     0\n",
              "146    verna  2015           5.95  ...       Dealer        Manual     0\n",
              "147      i10  2013           4.00  ...       Dealer        Manual     0\n",
              "148      i20  2016           5.25  ...       Dealer        Manual     0\n",
              "\n",
              "[149 rows x 9 columns]"
            ]
          },
          "metadata": {
            "tags": []
          },
          "execution_count": 73
        }
      ]
    },
    {
      "cell_type": "code",
      "metadata": {
        "id": "wrqvw38e8fe7",
        "colab_type": "code",
        "colab": {
          "base_uri": "https://localhost:8080/",
          "height": 221
        },
        "outputId": "95bcef97-7691-48c4-c579-9a27b67f4a8c"
      },
      "source": [
        "df ['Car_Name']"
      ],
      "execution_count": null,
      "outputs": [
        {
          "output_type": "execute_result",
          "data": {
            "text/plain": [
              "0         ritz\n",
              "1          sx4\n",
              "2         ciaz\n",
              "3      wagon r\n",
              "4        swift\n",
              "        ...   \n",
              "144      verna\n",
              "145        i20\n",
              "146      verna\n",
              "147        i10\n",
              "148        i20\n",
              "Name: Car_Name, Length: 149, dtype: object"
            ]
          },
          "metadata": {
            "tags": []
          },
          "execution_count": 74
        }
      ]
    },
    {
      "cell_type": "code",
      "metadata": {
        "id": "dnNpOMwZ9AaT",
        "colab_type": "code",
        "colab": {
          "base_uri": "https://localhost:8080/",
          "height": 297
        },
        "outputId": "6f418a0b-1a04-40bc-f792-52f509fa2945"
      },
      "source": [
        "df.describe()"
      ],
      "execution_count": null,
      "outputs": [
        {
          "output_type": "execute_result",
          "data": {
            "text/html": [
              "<div>\n",
              "<style scoped>\n",
              "    .dataframe tbody tr th:only-of-type {\n",
              "        vertical-align: middle;\n",
              "    }\n",
              "\n",
              "    .dataframe tbody tr th {\n",
              "        vertical-align: top;\n",
              "    }\n",
              "\n",
              "    .dataframe thead th {\n",
              "        text-align: right;\n",
              "    }\n",
              "</style>\n",
              "<table border=\"1\" class=\"dataframe\">\n",
              "  <thead>\n",
              "    <tr style=\"text-align: right;\">\n",
              "      <th></th>\n",
              "      <th>Year</th>\n",
              "      <th>Selling_Price</th>\n",
              "      <th>Present_Price</th>\n",
              "      <th>Kms_Driven</th>\n",
              "      <th>Owner</th>\n",
              "    </tr>\n",
              "  </thead>\n",
              "  <tbody>\n",
              "    <tr>\n",
              "      <th>count</th>\n",
              "      <td>149.000000</td>\n",
              "      <td>149.000000</td>\n",
              "      <td>149.000000</td>\n",
              "      <td>149.000000</td>\n",
              "      <td>149.000000</td>\n",
              "    </tr>\n",
              "    <tr>\n",
              "      <th>mean</th>\n",
              "      <td>2013.315436</td>\n",
              "      <td>6.810268</td>\n",
              "      <td>11.482685</td>\n",
              "      <td>44099.389262</td>\n",
              "      <td>0.046980</td>\n",
              "    </tr>\n",
              "    <tr>\n",
              "      <th>std</th>\n",
              "      <td>3.029332</td>\n",
              "      <td>5.776781</td>\n",
              "      <td>10.104831</td>\n",
              "      <td>29230.812435</td>\n",
              "      <td>0.292602</td>\n",
              "    </tr>\n",
              "    <tr>\n",
              "      <th>min</th>\n",
              "      <td>2003.000000</td>\n",
              "      <td>0.350000</td>\n",
              "      <td>2.280000</td>\n",
              "      <td>2071.000000</td>\n",
              "      <td>0.000000</td>\n",
              "    </tr>\n",
              "    <tr>\n",
              "      <th>25%</th>\n",
              "      <td>2012.000000</td>\n",
              "      <td>3.350000</td>\n",
              "      <td>5.870000</td>\n",
              "      <td>24678.000000</td>\n",
              "      <td>0.000000</td>\n",
              "    </tr>\n",
              "    <tr>\n",
              "      <th>50%</th>\n",
              "      <td>2014.000000</td>\n",
              "      <td>4.950000</td>\n",
              "      <td>8.100000</td>\n",
              "      <td>41442.000000</td>\n",
              "      <td>0.000000</td>\n",
              "    </tr>\n",
              "    <tr>\n",
              "      <th>75%</th>\n",
              "      <td>2015.000000</td>\n",
              "      <td>7.450000</td>\n",
              "      <td>13.600000</td>\n",
              "      <td>56000.000000</td>\n",
              "      <td>0.000000</td>\n",
              "    </tr>\n",
              "    <tr>\n",
              "      <th>max</th>\n",
              "      <td>2018.000000</td>\n",
              "      <td>35.000000</td>\n",
              "      <td>92.600000</td>\n",
              "      <td>197176.000000</td>\n",
              "      <td>3.000000</td>\n",
              "    </tr>\n",
              "  </tbody>\n",
              "</table>\n",
              "</div>"
            ],
            "text/plain": [
              "              Year  Selling_Price  Present_Price     Kms_Driven       Owner\n",
              "count   149.000000     149.000000     149.000000     149.000000  149.000000\n",
              "mean   2013.315436       6.810268      11.482685   44099.389262    0.046980\n",
              "std       3.029332       5.776781      10.104831   29230.812435    0.292602\n",
              "min    2003.000000       0.350000       2.280000    2071.000000    0.000000\n",
              "25%    2012.000000       3.350000       5.870000   24678.000000    0.000000\n",
              "50%    2014.000000       4.950000       8.100000   41442.000000    0.000000\n",
              "75%    2015.000000       7.450000      13.600000   56000.000000    0.000000\n",
              "max    2018.000000      35.000000      92.600000  197176.000000    3.000000"
            ]
          },
          "metadata": {
            "tags": []
          },
          "execution_count": 75
        }
      ]
    },
    {
      "cell_type": "code",
      "metadata": {
        "id": "CU_PmtjX9M7X",
        "colab_type": "code",
        "colab": {
          "base_uri": "https://localhost:8080/",
          "height": 68
        },
        "outputId": "e32b4262-aa1a-4b7f-ef37-74c67cf21b59"
      },
      "source": [
        "df.columns"
      ],
      "execution_count": null,
      "outputs": [
        {
          "output_type": "execute_result",
          "data": {
            "text/plain": [
              "Index(['Car_Name', 'Year', 'Selling_Price', 'Present_Price', 'Kms_Driven',\n",
              "       'Fuel_Type', 'Seller_Type', 'Transmission', 'Owner'],\n",
              "      dtype='object')"
            ]
          },
          "metadata": {
            "tags": []
          },
          "execution_count": 76
        }
      ]
    },
    {
      "cell_type": "code",
      "metadata": {
        "id": "ZXGLdDty9f0g",
        "colab_type": "code",
        "colab": {}
      },
      "source": [
        "fname = df['Car_Name'].unique()\n"
      ],
      "execution_count": null,
      "outputs": []
    },
    {
      "cell_type": "code",
      "metadata": {
        "id": "6VfcaO6-9vXv",
        "colab_type": "code",
        "colab": {
          "base_uri": "https://localhost:8080/",
          "height": 119
        },
        "outputId": "5be607ac-9f81-4919-f74e-c0437af0032e"
      },
      "source": [
        "fname\n"
      ],
      "execution_count": null,
      "outputs": [
        {
          "output_type": "execute_result",
          "data": {
            "text/plain": [
              "array(['ritz', 'sx4', 'ciaz', 'wagon r', 'swift', 'vitara brezza',\n",
              "       's cross', 'alto 800', 'ertiga', 'dzire', 'alto k10', 'ignis',\n",
              "       '800', 'baleno', 'omni', 'fortuner', 'innova', 'corolla altis',\n",
              "       'etios cross', 'etios g', 'etios liva', 'corolla', 'etios gd',\n",
              "       'camry', 'land cruiser', 'i20', 'grand i10', 'i10', 'eon', 'xcent',\n",
              "       'elantra', 'creta', 'verna'], dtype=object)"
            ]
          },
          "metadata": {
            "tags": []
          },
          "execution_count": 79
        }
      ]
    },
    {
      "cell_type": "code",
      "metadata": {
        "id": "zMFJ6WVB-KR1",
        "colab_type": "code",
        "colab": {}
      },
      "source": [
        "fsize = df.groupby(df['Car_Name'],sort = False ).size()"
      ],
      "execution_count": null,
      "outputs": []
    },
    {
      "cell_type": "code",
      "metadata": {
        "id": "hn09w80_-qzr",
        "colab_type": "code",
        "colab": {
          "base_uri": "https://localhost:8080/",
          "height": 612
        },
        "outputId": "e915b179-09f8-48f3-e948-63261c0bfc5a"
      },
      "source": [
        "fsize"
      ],
      "execution_count": null,
      "outputs": [
        {
          "output_type": "execute_result",
          "data": {
            "text/plain": [
              "Car_Name\n",
              "ritz              4\n",
              "sx4               6\n",
              "ciaz              9\n",
              "wagon r           4\n",
              "swift             5\n",
              "vitara brezza     1\n",
              "s cross           1\n",
              "alto 800          1\n",
              "ertiga            6\n",
              "dzire             4\n",
              "alto k10          5\n",
              "ignis             1\n",
              "800               1\n",
              "baleno            1\n",
              "omni              1\n",
              "fortuner         11\n",
              "innova            9\n",
              "corolla altis    16\n",
              "etios cross       3\n",
              "etios g           3\n",
              "etios liva        4\n",
              "corolla           1\n",
              "etios gd          1\n",
              "camry             1\n",
              "land cruiser      1\n",
              "i20               9\n",
              "grand i10         8\n",
              "i10               5\n",
              "eon               6\n",
              "xcent             3\n",
              "elantra           2\n",
              "creta             2\n",
              "verna            14\n",
              "dtype: int64"
            ]
          },
          "metadata": {
            "tags": []
          },
          "execution_count": 81
        }
      ]
    },
    {
      "cell_type": "code",
      "metadata": {
        "id": "SoJDrAlM-28D",
        "colab_type": "code",
        "colab": {
          "base_uri": "https://localhost:8080/",
          "height": 34
        },
        "outputId": "1c9b6fa8-e4c0-4891-95f4-dc1407c441b0"
      },
      "source": [
        "print(type(fsize))"
      ],
      "execution_count": null,
      "outputs": [
        {
          "output_type": "stream",
          "text": [
            "<class 'pandas.core.series.Series'>\n"
          ],
          "name": "stdout"
        }
      ]
    },
    {
      "cell_type": "code",
      "metadata": {
        "id": "86CZinVN-95F",
        "colab_type": "code",
        "colab": {
          "base_uri": "https://localhost:8080/",
          "height": 34
        },
        "outputId": "087e79d1-9b05-4f10-9ae2-e6baa095bf97"
      },
      "source": [
        "print(type(fname))"
      ],
      "execution_count": null,
      "outputs": [
        {
          "output_type": "stream",
          "text": [
            "<class 'numpy.ndarray'>\n"
          ],
          "name": "stdout"
        }
      ]
    },
    {
      "cell_type": "code",
      "metadata": {
        "id": "csA1zxsuBjSe",
        "colab_type": "code",
        "colab": {
          "base_uri": "https://localhost:8080/",
          "height": 295
        },
        "outputId": "973b4651-ed37-4b17-881a-02f5d25bd853"
      },
      "source": [
        "import matplotlib.pyplot as plt\n",
        "plt.bar(fname,fsize,color = ['r','b','c','m'])\n",
        "plt.title('cars vs count')\n",
        "plt.xlabel('cars')\n",
        "plt.ylabel('count')\n",
        "plt.show()"
      ],
      "execution_count": null,
      "outputs": [
        {
          "output_type": "display_data",
          "data": {
            "image/png": "[encoded data removed]",
            "text/plain": [
              "<Figure size 432x288 with 1 Axes>"
            ]
          },
          "metadata": {
            "tags": [],
            "needs_background": "light"
          }
        }
      ]
    },
    {
      "cell_type": "code",
      "metadata": {
        "id": "OvciPnW5ETzY",
        "colab_type": "code",
        "colab": {
          "base_uri": "https://localhost:8080/",
          "height": 1000
        },
        "outputId": "6e80641e-38ab-4bab-f033-584bbc1bfc7a"
      },
      "source": [
        "x = df.iloc[:,[2,3,4]].values\n",
        "y = df.iloc[:,7].values\n",
        "print (x,y)"
      ],
      "execution_count": null,
      "outputs": [
        {
          "output_type": "stream",
          "text": [
            "[[3.35000e+00 5.59000e+00 2.70000e+04]\n",
            " [4.75000e+00 9.54000e+00 4.30000e+04]\n",
            " [7.25000e+00 9.85000e+00 6.90000e+03]\n",
            " [2.85000e+00 4.15000e+00 5.20000e+03]\n",
            " [4.60000e+00 6.87000e+00 4.24500e+04]\n",
            " [9.25000e+00 9.83000e+00 2.07100e+03]\n",
            " [6.75000e+00 8.12000e+00 1.87960e+04]\n",
            " [6.50000e+00 8.61000e+00 3.34290e+04]\n",
            " [8.75000e+00 8.89000e+00 2.02730e+04]\n",
            " [7.45000e+00 8.92000e+00 4.23670e+04]\n",
            " [2.85000e+00 3.60000e+00 2.13500e+03]\n",
            " [6.85000e+00 1.03800e+01 5.10000e+04]\n",
            " [7.50000e+00 9.94000e+00 1.50000e+04]\n",
            " [6.10000e+00 7.71000e+00 2.60000e+04]\n",
            " [2.25000e+00 7.21000e+00 7.74270e+04]\n",
            " [7.75000e+00 1.07900e+01 4.30000e+04]\n",
            " [7.25000e+00 1.07900e+01 4.16780e+04]\n",
            " [7.75000e+00 1.07900e+01 4.30000e+04]\n",
            " [3.25000e+00 5.09000e+00 3.55000e+04]\n",
            " [2.65000e+00 7.98000e+00 4.14420e+04]\n",
            " [2.85000e+00 3.95000e+00 2.50000e+04]\n",
            " [4.90000e+00 5.71000e+00 2.40000e+03]\n",
            " [4.40000e+00 8.01000e+00 5.00000e+04]\n",
            " [2.50000e+00 3.46000e+00 4.52800e+04]\n",
            " [2.90000e+00 4.41000e+00 5.68790e+04]\n",
            " [3.00000e+00 4.99000e+00 2.00000e+04]\n",
            " [4.15000e+00 5.87000e+00 5.51380e+04]\n",
            " [6.00000e+00 6.49000e+00 1.62000e+04]\n",
            " [1.95000e+00 3.95000e+00 4.45420e+04]\n",
            " [7.45000e+00 1.03800e+01 4.50000e+04]\n",
            " [3.10000e+00 5.98000e+00 5.14390e+04]\n",
            " [2.35000e+00 4.89000e+00 5.42000e+04]\n",
            " [4.95000e+00 7.49000e+00 3.90000e+04]\n",
            " [6.00000e+00 9.95000e+00 4.50000e+04]\n",
            " [5.50000e+00 8.06000e+00 4.50000e+04]\n",
            " [2.95000e+00 7.74000e+00 4.99980e+04]\n",
            " [4.65000e+00 7.20000e+00 4.87670e+04]\n",
            " [3.50000e-01 2.28000e+00 1.27000e+05]\n",
            " [3.00000e+00 3.76000e+00 1.00790e+04]\n",
            " [2.25000e+00 7.98000e+00 6.20000e+04]\n",
            " [5.85000e+00 7.87000e+00 2.45240e+04]\n",
            " [2.55000e+00 3.98000e+00 4.67060e+04]\n",
            " [1.95000e+00 7.15000e+00 5.80000e+04]\n",
            " [5.50000e+00 8.06000e+00 4.57800e+04]\n",
            " [1.25000e+00 2.69000e+00 5.00000e+04]\n",
            " [7.50000e+00 1.20400e+01 1.50000e+04]\n",
            " [2.65000e+00 4.89000e+00 6.45320e+04]\n",
            " [1.05000e+00 4.15000e+00 6.50000e+04]\n",
            " [5.80000e+00 7.71000e+00 2.58700e+04]\n",
            " [7.75000e+00 9.29000e+00 3.70000e+04]\n",
            " [1.49000e+01 3.06100e+01 1.04707e+05]\n",
            " [2.30000e+01 3.06100e+01 4.00000e+04]\n",
            " [1.80000e+01 1.97700e+01 1.50000e+04]\n",
            " [1.60000e+01 3.06100e+01 1.35000e+05]\n",
            " [2.75000e+00 1.02100e+01 9.00000e+04]\n",
            " [3.60000e+00 1.50400e+01 7.00000e+04]\n",
            " [4.50000e+00 7.27000e+00 4.05340e+04]\n",
            " [4.75000e+00 1.85400e+01 5.00000e+04]\n",
            " [4.10000e+00 6.80000e+00 3.94850e+04]\n",
            " [1.99900e+01 3.59600e+01 4.10000e+04]\n",
            " [6.95000e+00 1.86100e+01 4.00010e+04]\n",
            " [4.50000e+00 7.70000e+00 4.05880e+04]\n",
            " [1.87500e+01 3.59600e+01 7.80000e+04]\n",
            " [2.35000e+01 3.59600e+01 4.70000e+04]\n",
            " [3.30000e+01 3.62300e+01 6.00000e+03]\n",
            " [4.75000e+00 6.95000e+00 4.50000e+04]\n",
            " [1.97500e+01 2.31500e+01 1.10000e+04]\n",
            " [9.25000e+00 2.04500e+01 5.90000e+04]\n",
            " [4.35000e+00 1.37400e+01 8.80000e+04]\n",
            " [1.42500e+01 2.09100e+01 1.20000e+04]\n",
            " [3.95000e+00 6.76000e+00 7.10000e+04]\n",
            " [4.50000e+00 1.24800e+01 4.50000e+04]\n",
            " [7.45000e+00 1.86100e+01 5.60010e+04]\n",
            " [2.65000e+00 5.71000e+00 4.30000e+04]\n",
            " [4.90000e+00 8.93000e+00 8.30000e+04]\n",
            " [3.95000e+00 6.80000e+00 3.60000e+04]\n",
            " [5.50000e+00 1.46800e+01 7.20000e+04]\n",
            " [1.50000e+00 1.23500e+01 1.35154e+05]\n",
            " [5.25000e+00 2.28300e+01 8.00000e+04]\n",
            " [1.45000e+01 3.06100e+01 8.90000e+04]\n",
            " [1.47300e+01 1.48900e+01 2.30000e+04]\n",
            " [4.75000e+00 7.85000e+00 4.00000e+04]\n",
            " [2.30000e+01 2.53900e+01 1.50000e+04]\n",
            " [1.25000e+01 1.34600e+01 3.80000e+04]\n",
            " [3.49000e+00 1.34600e+01 1.97176e+05]\n",
            " [2.50000e+00 2.37300e+01 1.42000e+05]\n",
            " [3.50000e+01 9.26000e+01 7.80000e+04]\n",
            " [5.90000e+00 1.37400e+01 5.60000e+04]\n",
            " [3.45000e+00 6.05000e+00 4.70000e+04]\n",
            " [4.75000e+00 6.76000e+00 4.00000e+04]\n",
            " [3.80000e+00 1.86100e+01 6.20000e+04]\n",
            " [1.12500e+01 1.60900e+01 5.82420e+04]\n",
            " [3.51000e+00 1.37000e+01 7.50000e+04]\n",
            " [2.30000e+01 3.06100e+01 4.00000e+04]\n",
            " [4.00000e+00 2.27800e+01 8.90000e+04]\n",
            " [5.85000e+00 1.86100e+01 7.20000e+04]\n",
            " [2.07500e+01 2.53900e+01 2.90000e+04]\n",
            " [1.70000e+01 1.86400e+01 8.70000e+03]\n",
            " [7.05000e+00 1.86100e+01 4.50000e+04]\n",
            " [9.65000e+00 2.04500e+01 5.00240e+04]\n",
            " [3.25000e+00 6.79000e+00 5.80000e+04]\n",
            " [4.40000e+00 5.70000e+00 2.82000e+04]\n",
            " [2.95000e+00 4.60000e+00 5.34600e+04]\n",
            " [2.75000e+00 4.43000e+00 2.82820e+04]\n",
            " [5.25000e+00 5.70000e+00 3.49300e+03]\n",
            " [5.75000e+00 7.13000e+00 1.24790e+04]\n",
            " [5.15000e+00 5.70000e+00 3.47970e+04]\n",
            " [7.90000e+00 8.10000e+00 3.43500e+03]\n",
            " [4.85000e+00 5.70000e+00 2.11250e+04]\n",
            " [3.10000e+00 4.60000e+00 3.57750e+04]\n",
            " [1.17500e+01 1.47900e+01 4.35350e+04]\n",
            " [1.12500e+01 1.36000e+01 2.26710e+04]\n",
            " [2.90000e+00 6.79000e+00 3.16040e+04]\n",
            " [5.25000e+00 5.70000e+00 2.01140e+04]\n",
            " [4.50000e+00 9.40000e+00 3.61000e+04]\n",
            " [2.90000e+00 4.43000e+00 1.25000e+04]\n",
            " [3.15000e+00 4.43000e+00 1.50000e+04]\n",
            " [6.45000e+00 9.40000e+00 4.50780e+04]\n",
            " [4.50000e+00 9.40000e+00 3.60000e+04]\n",
            " [3.50000e+00 4.43000e+00 3.84880e+04]\n",
            " [4.50000e+00 6.79000e+00 3.20000e+04]\n",
            " [6.00000e+00 7.60000e+00 7.76320e+04]\n",
            " [8.25000e+00 9.40000e+00 6.13810e+04]\n",
            " [5.11000e+00 9.40000e+00 3.61980e+04]\n",
            " [2.70000e+00 4.60000e+00 2.25170e+04]\n",
            " [5.25000e+00 5.70000e+00 2.46780e+04]\n",
            " [2.55000e+00 4.43000e+00 5.70000e+04]\n",
            " [4.95000e+00 9.40000e+00 6.00000e+04]\n",
            " [3.10000e+00 6.79000e+00 5.21320e+04]\n",
            " [6.15000e+00 9.40000e+00 4.50000e+04]\n",
            " [9.25000e+00 9.40000e+00 1.50010e+04]\n",
            " [1.14500e+01 1.47900e+01 1.29000e+04]\n",
            " [3.90000e+00 5.70000e+00 5.30000e+04]\n",
            " [5.50000e+00 5.70000e+00 4.49200e+03]\n",
            " [9.10000e+00 9.40000e+00 1.51410e+04]\n",
            " [3.10000e+00 4.43000e+00 1.18490e+04]\n",
            " [1.12500e+01 1.36000e+01 6.80000e+04]\n",
            " [4.80000e+00 9.40000e+00 6.02410e+04]\n",
            " [2.00000e+00 4.43000e+00 2.37090e+04]\n",
            " [5.35000e+00 9.40000e+00 3.23220e+04]\n",
            " [4.75000e+00 7.13000e+00 3.58660e+04]\n",
            " [4.40000e+00 7.13000e+00 3.40000e+04]\n",
            " [6.25000e+00 7.60000e+00 7.00000e+03]\n",
            " [5.95000e+00 9.40000e+00 4.90000e+04]\n",
            " [5.20000e+00 9.40000e+00 7.10000e+04]\n",
            " [3.75000e+00 6.79000e+00 3.50000e+04]\n",
            " [5.95000e+00 9.40000e+00 3.60000e+04]\n",
            " [4.00000e+00 4.60000e+00 3.00000e+04]\n",
            " [5.25000e+00 7.60000e+00 1.70000e+04]] ['Manual' 'Manual' 'Manual' 'Manual' 'Manual' 'Manual' 'Manual' 'Manual'\n",
            " 'Manual' 'Manual' 'Manual' 'Manual' 'Automatic' 'Manual' 'Manual'\n",
            " 'Manual' 'Manual' 'Manual' 'Manual' 'Manual' 'Manual' 'Manual'\n",
            " 'Automatic' 'Manual' 'Manual' 'Manual' 'Manual' 'Manual' 'Manual'\n",
            " 'Manual' 'Manual' 'Manual' 'Manual' 'Manual' 'Manual' 'Manual' 'Manual'\n",
            " 'Manual' 'Manual' 'Manual' 'Automatic' 'Manual' 'Manual' 'Manual'\n",
            " 'Manual' 'Automatic' 'Manual' 'Manual' 'Manual' 'Automatic' 'Automatic'\n",
            " 'Automatic' 'Automatic' 'Automatic' 'Manual' 'Automatic' 'Manual'\n",
            " 'Manual' 'Manual' 'Automatic' 'Manual' 'Manual' 'Automatic' 'Automatic'\n",
            " 'Automatic' 'Manual' 'Automatic' 'Manual' 'Manual' 'Manual' 'Manual'\n",
            " 'Manual' 'Manual' 'Manual' 'Manual' 'Manual' 'Manual' 'Automatic'\n",
            " 'Automatic' 'Automatic' 'Manual' 'Manual' 'Automatic' 'Manual' 'Manual'\n",
            " 'Automatic' 'Manual' 'Manual' 'Manual' 'Manual' 'Manual' 'Manual'\n",
            " 'Manual' 'Automatic' 'Automatic' 'Manual' 'Automatic' 'Manual' 'Manual'\n",
            " 'Manual' 'Manual' 'Manual' 'Manual' 'Manual' 'Manual' 'Manual'\n",
            " 'Automatic' 'Manual' 'Manual' 'Manual' 'Manual' 'Manual' 'Manual'\n",
            " 'Manual' 'Manual' 'Manual' 'Manual' 'Manual' 'Manual' 'Manual'\n",
            " 'Automatic' 'Manual' 'Manual' 'Automatic' 'Manual' 'Manual' 'Manual'\n",
            " 'Manual' 'Manual' 'Manual' 'Manual' 'Automatic' 'Manual' 'Manual'\n",
            " 'Manual' 'Manual' 'Manual' 'Manual' 'Manual' 'Manual' 'Manual' 'Manual'\n",
            " 'Manual' 'Manual' 'Manual' 'Manual' 'Manual' 'Manual' 'Manual']\n"
          ],
          "name": "stdout"
        }
      ]
    },
    {
      "cell_type": "code",
      "metadata": {
        "id": "mcKR7cm0E7NK",
        "colab_type": "code",
        "colab": {
          "base_uri": "https://localhost:8080/",
          "height": 85
        },
        "outputId": "19a55bef-21fb-403f-d5a5-bb3f5b9d7566"
      },
      "source": [
        "from sklearn.model_selection import train_test_split\n",
        "x_train,x_test,y_train,y_test = train_test_split(x,y,random_state = 6)\n",
        "\n",
        "print(x_train.shape)\n",
        "print(x_test.shape)\n",
        "print(y_train.shape)\n",
        "print(y_test.shape)\n"
      ],
      "execution_count": null,
      "outputs": [
        {
          "output_type": "stream",
          "text": [
            "(111, 3)\n",
            "(38, 3)\n",
            "(111,)\n",
            "(38,)\n"
          ],
          "name": "stdout"
        }
      ]
    },
    {
      "cell_type": "code",
      "metadata": {
        "id": "txLt9SIZFY8V",
        "colab_type": "code",
        "colab": {}
      },
      "source": [
        "from sklearn.preprocessing import MinMaxScaler # Range 0 to 1\n",
        "scaler = MinMaxScaler()\n",
        "x_train = scaler.fit_transform(x_train)\n",
        "x_test = scaler.transform(x_test)"
      ],
      "execution_count": null,
      "outputs": []
    },
    {
      "cell_type": "code",
      "metadata": {
        "id": "hxm5j7jdHvA7",
        "colab_type": "code",
        "colab": {
          "base_uri": "https://localhost:8080/",
          "height": 1000
        },
        "outputId": "4c225531-a8fb-45b2-a1d7-58ecdaa563e6"
      },
      "source": [
        "x_train"
      ],
      "execution_count": null,
      "outputs": [
        {
          "output_type": "execute_result",
          "data": {
            "text/plain": [
              "array([[4.71281296e-02, 1.44943820e-02, 3.20140437e-01],\n",
              "       [1.97349043e-01, 8.07865169e-02, 2.09779350e-01],\n",
              "       [7.18703976e-02, 1.10786517e-01, 1.00000000e+00],\n",
              "       [1.23711340e-01, 2.35955056e-02, 7.28838318e-03],\n",
              "       [8.98379971e-02, 3.59550562e-02, 1.91763409e-01],\n",
              "       [1.89985272e-01, 9.48314607e-02, 6.62668819e-02],\n",
              "       [1.89985272e-01, 7.12359551e-02, 6.62668819e-02],\n",
              "       [6.46539028e-01, 3.03483146e-01, 1.94403014e-01],\n",
              "       [1.45802651e-01, 3.24719101e-02, 7.24174163e-02],\n",
              "       [1.31075110e-01, 5.01123596e-02, 2.20030240e-01],\n",
              "       [4.40353461e-01, 3.03483146e-01, 6.81320315e-01],\n",
              "       [3.00441826e-01, 1.12359551e-01, 1.05584173e-01],\n",
              "       [3.00441826e-01, 1.12359551e-01, 3.37915481e-01],\n",
              "       [6.03829161e-02, 3.58426966e-02, 2.56584916e-01],\n",
              "       [1.67893962e-01, 5.07865169e-02, 8.57230722e-02],\n",
              "       [7.95287187e-02, 3.58426966e-02, 1.68775787e-01],\n",
              "       [6.48011782e-02, 1.67415730e-02, 1.71338510e-01],\n",
              "       [5.74374080e-02, 1.79775281e-03, 4.10445657e-02],\n",
              "       [5.30191458e-02, 3.93258427e-03, 1.17521335e-01],\n",
              "       [5.59646539e-02, 1.12359551e-02, 2.63391507e-01],\n",
              "       [1.01620029e-01, 9.97752809e-02, 2.20030240e-01],\n",
              "       [6.46539028e-01, 3.03483146e-01, 1.94403014e-01],\n",
              "       [8.68924890e-02, 2.15505618e-01, 4.45549832e-01],\n",
              "       [7.06921944e-02, 2.75280899e-02, 2.30281131e-01],\n",
              "       [4.69808542e-01, 1.68988764e-01, 3.39765767e-02],\n",
              "       [5.30191458e-02, 6.17977528e-03, 1.60375183e-02],\n",
              "       [1.41384389e-01, 1.68651685e-01, 3.58417262e-01],\n",
              "       [3.53460972e-02, 4.05617978e-02, 3.86233054e-01],\n",
              "       [1.88512518e-01, 7.61797753e-02, 2.20030240e-01],\n",
              "       [1.11929308e-01, 2.35955056e-02, 9.76602342e-02],\n",
              "       [9.86745214e-02, 3.96629213e-02, 1.63650342e-01],\n",
              "       [1.01620029e-01, 6.51685393e-02, 1.73901233e-01],\n",
              "       [5.00736377e-02, 9.32584270e-03, 1.34343046e-01],\n",
              "       [1.08983800e-01, 3.76404494e-02, 2.20030240e-01],\n",
              "       [2.01767305e-01, 5.05617978e-02, 6.99110735e-03],\n",
              "       [3.00441826e-01, 1.40337079e-01, 2.87901386e-01],\n",
              "       [7.24594993e-02, 1.13483146e-01, 3.73793598e-01],\n",
              "       [1.88512518e-01, 5.97752809e-02, 2.06534943e-01],\n",
              "       [1.76730486e-01, 1.68651685e-01, 2.20030240e-01],\n",
              "       [1.38438881e-01, 3.96629213e-02, 5.33456344e-02],\n",
              "       [1.13402062e-01, 2.37078652e-02, 1.68627149e-03],\n",
              "       [0.00000000e+00, 6.17977528e-03, 3.22539146e-01],\n",
              "       [1.22238586e-01, 6.51685393e-02, 3.53291817e-01],\n",
              "       [1.31075110e-01, 2.35955056e-02, 1.24087030e-02],\n",
              "       [6.48011782e-02, 3.58426966e-02, 2.86661029e-01],\n",
              "       [6.03829161e-02, 9.32584270e-03, 5.01166039e-02],\n",
              "       [1.31075110e-01, 1.24494382e-01, 3.58417262e-01],\n",
              "       [1.45802651e-01, 7.13483146e-02, 2.20030240e-01],\n",
              "       [1.01620029e-01, 4.12359551e-02, 1.97140002e-01],\n",
              "       [1.26656848e-01, 6.51685393e-02, 1.55049845e-01],\n",
              "       [1.06038292e-01, 4.04494382e-02, 2.39337792e-01],\n",
              "       [1.60530191e-01, 5.62921348e-02, 1.60723713e-01],\n",
              "       [2.12076583e-01, 6.51685393e-02, 3.03990159e-01],\n",
              "       [2.65095729e-02, 3.98876404e-02, 2.86661029e-01],\n",
              "       [1.39911635e-01, 4.61797753e-02, 1.21980472e-01],\n",
              "       [5.44918999e-02, 9.10112360e-03, 2.80915405e-01],\n",
              "       [4.41826215e-02, 4.26966292e-03, 2.28774250e-01],\n",
              "       [9.86745214e-02, 4.95505618e-02, 2.45657466e-01],\n",
              "       [5.59646539e-02, 4.65168539e-02, 2.45647216e-01],\n",
              "       [6.46539028e-01, 2.44831461e-01, 6.62668819e-02],\n",
              "       [1.08983800e-01, 3.96629213e-02, 1.73214423e-01],\n",
              "       [1.70839470e-01, 7.61797753e-02, 2.50782912e-01],\n",
              "       [5.44918999e-02, 9.32584270e-03, 5.34532688e-02],\n",
              "       [2.41531664e-01, 1.89325843e-01, 2.91786474e-01],\n",
              "       [5.30191458e-02, 0.00000000e+00, 3.28028497e-04],\n",
              "       [1.59057437e-01, 6.51685393e-02, 2.20430025e-01],\n",
              "       [8.10014728e-02, 1.68651685e-01, 3.07162810e-01],\n",
              "       [8.54197349e-02, 3.55056180e-02, 3.53291817e-01],\n",
              "       [4.41826215e-02, 9.32584270e-03, 2.81535583e-01],\n",
              "       [1.41384389e-01, 4.79775281e-02, 1.15081623e-01],\n",
              "       [1.23711340e-01, 2.16067416e-01, 3.99420825e-01],\n",
              "       [1.10456554e-01, 6.51685393e-02, 2.98147152e-01],\n",
              "       [4.07952872e-01, 3.03483146e-01, 5.26055201e-01],\n",
              "       [2.41531664e-01, 7.00000000e-02, 0.00000000e+00],\n",
              "       [1.08983800e-01, 1.67865169e-01, 2.45657466e-01],\n",
              "       [1.14874816e-01, 6.51685393e-02, 2.96911919e-01],\n",
              "       [2.65095729e-02, 3.93258427e-03, 2.17682786e-01],\n",
              "       [4.27098675e-02, 2.26179775e-01, 7.17198432e-01],\n",
              "       [4.71281296e-02, 4.92134831e-02, 2.01793906e-01],\n",
              "       [6.61266568e-01, 3.63595506e-01, 2.30281131e-01],\n",
              "       [7.21649485e-02, 9.32584270e-03, 1.86653341e-01],\n",
              "       [5.50810015e-01, 2.19662921e-01, 4.57651008e-02],\n",
              "       [1.44329897e-01, 6.51685393e-02, 2.40532021e-01],\n",
              "       [1.53166421e-01, 4.49438202e-02, 2.52633198e-02],\n",
              "       [3.06332842e-01, 1.25730337e-01, 5.55034469e-02],\n",
              "       [1.04565538e-01, 3.67415730e-02, 2.06960355e-01],\n",
              "       [1.97349043e-01, 6.39325843e-02, 1.79026678e-01],\n",
              "       [9.86745214e-02, 2.35955056e-02, 1.33922760e-01],\n",
              "       [3.88807069e-01, 1.94494382e-01, 5.08905461e-02],\n",
              "       [1.31075110e-01, 5.01123596e-02, 2.24028087e-01],\n",
              "       [1.01620029e-01, 6.51685393e-02, 1.74413777e-01],\n",
              "       [1.00000000e+00, 1.00000000e+00, 3.89169934e-01],\n",
              "       [1.97349043e-01, 8.07865169e-02, 2.09779350e-01],\n",
              "       [1.23711340e-01, 2.35955056e-02, 1.15870941e-01],\n",
              "       [3.82916053e-02, 1.44943820e-02, 2.67184337e-01],\n",
              "       [2.41531664e-01, 6.51685393e-02, 6.62720074e-02],\n",
              "       [2.26804124e-01, 5.94382022e-02, 9.32933549e-02],\n",
              "       [9.72017673e-02, 1.13932584e-01, 4.40424387e-01],\n",
              "       [3.15169367e-01, 1.25730337e-01, 2.12521463e-01],\n",
              "       [9.13107511e-02, 2.55056180e-02, 2.71992004e-01],\n",
              "       [1.32547865e-02, 9.83146067e-02, 6.82109633e-01],\n",
              "       [8.54197349e-02, 3.59550562e-02, 1.73901233e-01],\n",
              "       [1.08983800e-01, 6.67415730e-02, 2.09779350e-01],\n",
              "       [5.74374080e-02, 1.56179775e-02, 9.18941083e-02],\n",
              "       [5.21354934e-01, 3.63595506e-01, 3.89169934e-01],\n",
              "       [4.02945508e-01, 1.26853933e-01, 1.07270444e-01],\n",
              "       [8.68924890e-02, 1.12359551e-02, 1.43148561e-01],\n",
              "       [3.96170839e-01, 3.03483146e-01, 4.45549832e-01],\n",
              "       [6.03829161e-02, 1.12359551e-02, 1.72748007e-01],\n",
              "       [1.20765832e-01, 2.35955056e-02, 1.67735322e-01],\n",
              "       [2.79823270e-02, 9.32584270e-03, 1.10904385e-01]])"
            ]
          },
          "metadata": {
            "tags": []
          },
          "execution_count": 164
        }
      ]
    },
    {
      "cell_type": "code",
      "metadata": {
        "id": "IZ_FCKeJH3my",
        "colab_type": "code",
        "colab": {
          "base_uri": "https://localhost:8080/",
          "height": 51
        },
        "outputId": "ad3a2eea-20c2-431a-f620-eba9db27b530"
      },
      "source": [
        "print(x_train.shape)\n",
        "print(x_test.shape)"
      ],
      "execution_count": null,
      "outputs": [
        {
          "output_type": "stream",
          "text": [
            "(111, 3)\n",
            "(38, 3)\n"
          ],
          "name": "stdout"
        }
      ]
    },
    {
      "cell_type": "code",
      "metadata": {
        "id": "3EqHbsJvImAc",
        "colab_type": "code",
        "colab": {}
      },
      "source": [
        "from sklearn.neighbors import KNeighborsClassifier\n",
        "model = KNeighborsClassifier(n_neighbors = 7,metric = 'euclidean')"
      ],
      "execution_count": null,
      "outputs": []
    },
    {
      "cell_type": "code",
      "metadata": {
        "id": "IshsJUYLJeRC",
        "colab_type": "code",
        "colab": {
          "base_uri": "https://localhost:8080/",
          "height": 68
        },
        "outputId": "9c7a45b0-8fc4-4b3e-d100-bf0349d599a0"
      },
      "source": [
        "model.fit(x_train,y_train)"
      ],
      "execution_count": null,
      "outputs": [
        {
          "output_type": "execute_result",
          "data": {
            "text/plain": [
              "KNeighborsClassifier(algorithm='auto', leaf_size=30, metric='euclidean',\n",
              "                     metric_params=None, n_jobs=None, n_neighbors=7, p=2,\n",
              "                     weights='uniform')"
            ]
          },
          "metadata": {
            "tags": []
          },
          "execution_count": 167
        }
      ]
    },
    {
      "cell_type": "code",
      "metadata": {
        "id": "QIhNLflbJ2_s",
        "colab_type": "code",
        "colab": {}
      },
      "source": [
        "y_pred = model.predict(x_test)"
      ],
      "execution_count": null,
      "outputs": []
    },
    {
      "cell_type": "code",
      "metadata": {
        "id": "zxP-Ebj2Keh9",
        "colab_type": "code",
        "colab": {
          "base_uri": "https://localhost:8080/",
          "height": 136
        },
        "outputId": "353bc1f9-b92f-45e9-945c-0ae5daaed86f"
      },
      "source": [
        "y_pred\n"
      ],
      "execution_count": null,
      "outputs": [
        {
          "output_type": "execute_result",
          "data": {
            "text/plain": [
              "array(['Manual', 'Manual', 'Manual', 'Manual', 'Manual', 'Automatic',\n",
              "       'Manual', 'Manual', 'Manual', 'Manual', 'Manual', 'Manual',\n",
              "       'Manual', 'Manual', 'Manual', 'Manual', 'Manual', 'Manual',\n",
              "       'Manual', 'Manual', 'Manual', 'Manual', 'Manual', 'Manual',\n",
              "       'Manual', 'Manual', 'Manual', 'Automatic', 'Manual', 'Manual',\n",
              "       'Manual', 'Manual', 'Manual', 'Manual', 'Manual', 'Automatic',\n",
              "       'Manual', 'Manual'], dtype=object)"
            ]
          },
          "metadata": {
            "tags": []
          },
          "execution_count": 169
        }
      ]
    },
    {
      "cell_type": "code",
      "metadata": {
        "id": "cK-6omiFKo8w",
        "colab_type": "code",
        "colab": {
          "base_uri": "https://localhost:8080/",
          "height": 136
        },
        "outputId": "6cc0acd2-b3de-4fa6-e686-9cd853b1280b"
      },
      "source": [
        "y_test"
      ],
      "execution_count": null,
      "outputs": [
        {
          "output_type": "execute_result",
          "data": {
            "text/plain": [
              "array(['Automatic', 'Manual', 'Manual', 'Manual', 'Manual', 'Automatic',\n",
              "       'Automatic', 'Automatic', 'Manual', 'Automatic', 'Manual',\n",
              "       'Manual', 'Manual', 'Manual', 'Manual', 'Manual', 'Manual',\n",
              "       'Manual', 'Manual', 'Manual', 'Manual', 'Manual', 'Manual',\n",
              "       'Manual', 'Manual', 'Manual', 'Manual', 'Automatic', 'Manual',\n",
              "       'Manual', 'Manual', 'Manual', 'Manual', 'Manual', 'Manual',\n",
              "       'Automatic', 'Manual', 'Manual'], dtype=object)"
            ]
          },
          "metadata": {
            "tags": []
          },
          "execution_count": 170
        }
      ]
    },
    {
      "cell_type": "code",
      "metadata": {
        "id": "aDRIQKANLHCS",
        "colab_type": "code",
        "colab": {
          "base_uri": "https://localhost:8080/",
          "height": 34
        },
        "outputId": "9d7f7dee-8ab3-43f6-c84c-3a55538f0cde"
      },
      "source": [
        "from sklearn.metrics import accuracy_score\n",
        "accuracy_score(y_test,y_pred)*100"
      ],
      "execution_count": null,
      "outputs": [
        {
          "output_type": "execute_result",
          "data": {
            "text/plain": [
              "89.47368421052632"
            ]
          },
          "metadata": {
            "tags": []
          },
          "execution_count": 171
        }
      ]
    }
  ]
}